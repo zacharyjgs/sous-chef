{
 "cells": [
  {
   "cell_type": "code",
   "execution_count": 88,
   "metadata": {},
   "outputs": [],
   "source": [
    "import numpy as np\n",
    "import transformers as tr\n",
    "import torch"
   ]
  },
  {
   "cell_type": "code",
   "execution_count": 219,
   "metadata": {},
   "outputs": [
    {
     "name": "stderr",
     "output_type": "stream",
     "text": [
      "/Users/zacharyjgs/Projects/sous-chef/api/venv/lib/python3.7/site-packages/transformers/tokenization_utils.py:831: FutureWarning: Parameter max_len is deprecated and will be removed in a future release. Use model_max_length instead.\n",
      "  category=FutureWarning,\n"
     ]
    }
   ],
   "source": [
    "tokenizer = tr.AutoTokenizer.from_pretrained(\"ktrapeznikov/albert-xlarge-v2-squad-v2\")"
   ]
  },
  {
   "cell_type": "code",
   "execution_count": 221,
   "metadata": {},
   "outputs": [],
   "source": [
    "model = tr.AutoModelForQuestionAnswering.from_pretrained('ktrapeznikov/albert-xlarge-v2-squad-v2')"
   ]
  },
  {
   "cell_type": "code",
   "execution_count": 246,
   "metadata": {},
   "outputs": [],
   "source": [
    "question = \"What is racism\"\n",
    "text = \"\"\"The BEST and EASIEST Coffee Cake Recipe! It's moist, delicious and perfect for showers, breakfast and holiday celebrations!\n",
    "Course Breakfast\n",
    "Cuisine American\n",
    "Prep Time 5 minutes\n",
    "Cook Time 25 minutes\n",
    "Total Time 30 minutes\n",
    "Servings 15\n",
    "Calories 314 kcal\n",
    "Author Lil' Luna\n",
    "Ingredients\n",
    "1 cup oil\n",
    "2 eggs beaten\n",
    "1 tsp vanilla\n",
    "1 cup milk\n",
    "1 cup sugar\n",
    "3 cups flour\n",
    "3 tsp baking powder\n",
    "1/2 tsp salt\n",
    "1 1/2 cup brown sugar\n",
    "2 tsp cinnamon\n",
    "1/2 cup margarine/butter melted\n",
    "Instructions\n",
    "In a large mixing bowl. combine oil, eggs, vanilla and milk together.\n",
    "\n",
    "In a medium bowl, blend together sugar, flour, baking powder and salt.\n",
    "Combine egg mixture with flour mixture. Pour half the batter into a lightly greased 9x13 pan.\n",
    "\n",
    "In a medium bowl, prepare streusel by combining brown sugar and cinnamon.\n",
    "\n",
    "Sprinkle half of streusel on top of the batter. Top with remaining batter and then sprinkle the remaining streusel on top.\n",
    "Drizzle with melted margarine.\n",
    "Bake, uncovered at 350 for 25-30 minutes.\"\"\""
   ]
  },
  {
   "cell_type": "code",
   "execution_count": 247,
   "metadata": {},
   "outputs": [],
   "source": [
    "encoding = tokenizer.encode_plus(question, text)"
   ]
  },
  {
   "cell_type": "code",
   "execution_count": 248,
   "metadata": {},
   "outputs": [
    {
     "data": {
      "text/plain": [
       "dict_keys(['input_ids', 'token_type_ids', 'attention_mask'])"
      ]
     },
     "execution_count": 248,
     "metadata": {},
     "output_type": "execute_result"
    }
   ],
   "source": [
    "encoding.keys()"
   ]
  },
  {
   "cell_type": "code",
   "execution_count": 249,
   "metadata": {},
   "outputs": [],
   "source": [
    "input_ids, token_type_ids = encoding[\"input_ids\"], encoding[\"token_type_ids\"]"
   ]
  },
  {
   "cell_type": "code",
   "execution_count": 250,
   "metadata": {},
   "outputs": [],
   "source": [
    "start_scores, end_scores = model(torch.tensor([input_ids]), token_type_ids=torch.tensor([token_type_ids]))"
   ]
  },
  {
   "cell_type": "code",
   "execution_count": 251,
   "metadata": {},
   "outputs": [],
   "source": [
    "span_scores = start_scores.softmax(dim=1).log()[:,:,None] + end_scores.softmax(dim=1).log()[:,None,:]"
   ]
  },
  {
   "cell_type": "code",
   "execution_count": 252,
   "metadata": {},
   "outputs": [],
   "source": [
    "ignore_score = span_scores[:,0,0]"
   ]
  },
  {
   "cell_type": "code",
   "execution_count": 253,
   "metadata": {},
   "outputs": [],
   "source": [
    "all_tokens = tokenizer.convert_ids_to_tokens(input_ids)"
   ]
  },
  {
   "cell_type": "code",
   "execution_count": 254,
   "metadata": {},
   "outputs": [],
   "source": [
    "answer_tokens = all_tokens[torch.argmax(start_scores) : torch.argmax(end_scores) + 1]"
   ]
  },
  {
   "cell_type": "code",
   "execution_count": 255,
   "metadata": {},
   "outputs": [],
   "source": [
    "answer = ' '.join(map(lambda token: token.replace('▁', ''), answer_tokens))"
   ]
  },
  {
   "cell_type": "code",
   "execution_count": 256,
   "metadata": {},
   "outputs": [
    {
     "data": {
      "text/plain": [
       "'[CLS]'"
      ]
     },
     "execution_count": 256,
     "metadata": {},
     "output_type": "execute_result"
    }
   ],
   "source": [
    "answer"
   ]
  },
  {
   "cell_type": "code",
   "execution_count": 257,
   "metadata": {},
   "outputs": [
    {
     "data": {
      "text/plain": [
       "'[CLS]'"
      ]
     },
     "execution_count": 257,
     "metadata": {},
     "output_type": "execute_result"
    }
   ],
   "source": [
    "tokenizer.convert_tokens_to_string(answer_tokens)"
   ]
  },
  {
   "cell_type": "code",
   "execution_count": null,
   "metadata": {},
   "outputs": [],
   "source": []
  }
 ],
 "metadata": {
  "kernelspec": {
   "display_name": "sous-chef-venv",
   "language": "python",
   "name": "sous-chef-venv"
  },
  "language_info": {
   "codemirror_mode": {
    "name": "ipython",
    "version": 3
   },
   "file_extension": ".py",
   "mimetype": "text/x-python",
   "name": "python",
   "nbconvert_exporter": "python",
   "pygments_lexer": "ipython3",
   "version": "3.7.7"
  }
 },
 "nbformat": 4,
 "nbformat_minor": 4
}
